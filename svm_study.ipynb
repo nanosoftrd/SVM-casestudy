{
 "cells": [
  {
   "cell_type": "code",
   "execution_count": 10,
   "id": "9dcb0c07",
   "metadata": {},
   "outputs": [
    {
     "name": "stdout",
     "output_type": "stream",
     "text": [
      "Populating the interactive namespace from numpy and matplotlib\n"
     ]
    }
   ],
   "source": [
    "import pandas as pd\n",
    "import numpy as np                            \n",
    "import matplotlib.pyplot as plt\n",
    "from matplotlib.colors import ListedColormap\n",
    "import matplotlib.pyplot as plt\n",
    "from sklearn import datasets\n",
    "from sklearn.svm import SVC\n",
    "from sklearn.model_selection import train_test_split\n",
    "from sklearn.preprocessing import StandardScaler\n",
    "\n",
    "%pylab inline"
   ]
  },
  {
   "cell_type": "markdown",
   "id": "7c869b6e",
   "metadata": {},
   "source": [
    "we will use the iris dataset that is available with the load_iris() method. We will only make use of the petal length and width in this analysis."
   ]
  },
  {
   "cell_type": "code",
   "execution_count": 11,
   "id": "edd4a8bf",
   "metadata": {},
   "outputs": [
    {
     "name": "stdout",
     "output_type": "stream",
     "text": [
      "   petal length (cm)  petal width (cm)\n",
      "0                1.4               0.2\n",
      "1                1.4               0.2\n",
      "2                1.3               0.2\n",
      "3                1.5               0.2\n",
      "4                1.4               0.2\n",
      "\n",
      "Unique Labels contained in this data are [0 1 2]\n"
     ]
    }
   ],
   "source": [
    "pylab.rcParams['figure.figsize'] = (10, 6)\n",
    "\n",
    "iris_data = datasets.load_iris()\n",
    "\n",
    "# We'll use the petal length and width only for this analysis\n",
    "X = iris_data.data[:, [2, 3]]\n",
    "y = iris_data.target\n",
    "\n",
    "# Input the iris data into the pandas dataframe\n",
    "iris_dataframe = pd.DataFrame(iris_data.data[:, [2, 3]],\n",
    "                  columns=iris_data.feature_names[2:])\n",
    "\n",
    "# View the first 5 rows of the data\n",
    "print(iris_dataframe.head())\n",
    "\n",
    "# Print the unique labels of the dataset\n",
    "print('\\n' + 'Unique Labels contained in this data are '\n",
    "     + str(np.unique(y)))"
   ]
  },
  {
   "cell_type": "markdown",
   "id": "7c1e14bc",
   "metadata": {},
   "source": [
    "In the next step, we will split our data into training and test set using the train_test_split() function as follows –"
   ]
  },
  {
   "cell_type": "code",
   "execution_count": 12,
   "id": "f92d78ba",
   "metadata": {},
   "outputs": [
    {
     "name": "stdout",
     "output_type": "stream",
     "text": [
      "The training set contains 105 samples and the test set contains 45 samples\n"
     ]
    }
   ],
   "source": [
    "X_train, X_test, y_train, y_test = train_test_split(X, y, test_size=0.3, random_state=0)\n",
    "\n",
    "print('The training set contains {} samples and the test set contains {} samples'.format(X_train.shape[0], X_test.shape[0]))"
   ]
  },
  {
   "cell_type": "code",
   "execution_count": 13,
   "id": "1db04708",
   "metadata": {},
   "outputs": [
    {
     "name": "stderr",
     "output_type": "stream",
     "text": [
      "*c* argument looks like a single numeric RGB or RGBA sequence, which should be avoided as value-mapping will have precedence in case its length matches with *x* & *y*.  Please use the *color* keyword-argument or provide a 2-D array with a single row if you intend to specify the same RGB or RGBA value for all points.\n",
      "*c* argument looks like a single numeric RGB or RGBA sequence, which should be avoided as value-mapping will have precedence in case its length matches with *x* & *y*.  Please use the *color* keyword-argument or provide a 2-D array with a single row if you intend to specify the same RGB or RGBA value for all points.\n",
      "*c* argument looks like a single numeric RGB or RGBA sequence, which should be avoided as value-mapping will have precedence in case its length matches with *x* & *y*.  Please use the *color* keyword-argument or provide a 2-D array with a single row if you intend to specify the same RGB or RGBA value for all points.\n"
     ]
    },
    {
     "data": {
      "image/png": "[encoded data removed]",
      "text/plain": [
       "<Figure size 720x432 with 1 Axes>"
      ]
     },
     "metadata": {
      "needs_background": "light"
     },
     "output_type": "display_data"
    }
   ],
   "source": [
    "markers = ('x', 's', 'o')\n",
    "colors = ('red', 'blue', 'green')\n",
    "cmap = ListedColormap(colors[:len(np.unique(y_test))])\n",
    "for idx, cl in enumerate(np.unique(y)):\n",
    "    plt.scatter(x=X[y == cl, 0], y=X[y == cl, 1],\n",
    "           c=cmap(idx), marker=markers[idx], label=cl)"
   ]
  },
  {
   "cell_type": "markdown",
   "id": "1996cafc",
   "metadata": {},
   "source": [
    "Then, we will perform scaling on our data. Scaling will ensure that all of our data-values lie on a common range such that there are no extreme values."
   ]
  },
  {
   "cell_type": "code",
   "execution_count": 14,
   "id": "6bacc82f",
   "metadata": {},
   "outputs": [
    {
     "name": "stdout",
     "output_type": "stream",
     "text": [
      "The first five rows after standardisation look like this:\n",
      "\n",
      "   petal length (cm)  petal width (cm)\n",
      "0          -0.182950         -0.293181\n",
      "1           0.930661          0.737246\n",
      "2           1.042022          1.638870\n",
      "3           0.652258          0.350836\n",
      "4           1.097702          0.737246\n"
     ]
    }
   ],
   "source": [
    "standard_scaler = StandardScaler()\n",
    "#DataFlair\n",
    "standard_scaler.fit(X_train)\n",
    "\n",
    "X_train_standard = standard_scaler.transform(X_train)\n",
    "X_test_standard = standard_scaler.transform(X_test)\n",
    "\n",
    "print('The first five rows after standardisation look like this:\\n')\n",
    "print(pd.DataFrame(X_train_standard, columns=iris_dataframe.columns).head())"
   ]
  },
  {
   "cell_type": "markdown",
   "id": "01769c9e",
   "metadata": {},
   "source": [
    "After we have pre-processed our data, the next step is the implementation of the SVM model as follows. We will make use of the SVC function provided to us by the sklearn library. In this instance, we will select our kernel as ‘rbf’.\n",
    "\n"
   ]
  },
  {
   "cell_type": "code",
   "execution_count": 15,
   "id": "79c7274b",
   "metadata": {},
   "outputs": [
    {
     "name": "stdout",
     "output_type": "stream",
     "text": [
      "Accuracy of our SVM model on the training data is 0.95 out of 1\n",
      "Accuracy of our SVM model on the test data is 0.98 out of 1\n"
     ]
    }
   ],
   "source": [
    "#DataFlair\n",
    "SVM = SVC(kernel='rbf', random_state=0, gamma=.10, C=1.0)\n",
    "SVM.fit(X_train_standard, y_train)\n",
    "\n",
    "print('Accuracy of our SVM model on the training data is {:.2f} out of 1'.format(SVM.score(X_train_standard, y_train)))\n",
    "\n",
    "print('Accuracy of our SVM model on the test data is {:.2f} out of 1'.format(SVM.score(X_test_standard, y_test)))"
   ]
  },
  {
   "cell_type": "markdown",
   "id": "cfdc8937",
   "metadata": {},
   "source": [
    "After we have achieved our accuracy, the best course of action would be to visualize our SVM model. We can do this by creating a function called decision_plot() and passing values to it as follows –"
   ]
  },
  {
   "cell_type": "code",
   "execution_count": 16,
   "id": "6f864f0e",
   "metadata": {},
   "outputs": [],
   "source": [
    "import warnings\n",
    "\n",
    "def versiontuple(version):\n",
    "   return tuple(map(int, (version.split(\".\"))))\n",
    "\n",
    "def decision_plot(X, y, classifier, test_idx=None, resolution=0.02):\n",
    "\n",
    "   # setup marker generator and color map\n",
    "   markers = ('s', 'x', 'o', '^', 'v')\n",
    "   colors = ('red', 'blue', 'green', 'gray', 'cyan')\n",
    "   cmap = ListedColormap(colors[:len(np.unique(y))])\n",
    "\n",
    "   # plot the decision surface\n",
    "   x1min, x1max = X[:, 0].min() - 1, X[:, 0].max() + 1\n",
    "   x2min, x2max = X[:, 1].min() - 1, X[:, 1].max() + 1\n",
    "   xx1, xx2 = np.meshgrid(np.arange(x1min, x1max, resolution),\n",
    "                 np.arange(x2min, x2max, resolution))\n",
    "   Z = classifier.predict(np.array([xx1.ravel(), xx2.ravel()]).T)\n",
    "   Z = Z.reshape(xx1.shape)\n",
    "   plt.contourf(xx1, xx2, Z, alpha=0.4, cmap=cmap)\n",
    "   plt.xlim(xx1.min(), xx1.max())\n",
    "   plt.ylim(xx2.min(), xx2.max())\n",
    "\n",
    "   for idx, cl in enumerate(np.unique(y)):\n",
    "      plt.scatter(x=X[y == cl, 0], y=X[y == cl, 1],\n",
    "              alpha=0.8, c=cmap(idx),\n",
    "              marker=markers[idx], label=cl)"
   ]
  },
  {
   "cell_type": "code",
   "execution_count": 17,
   "id": "36139b0b",
   "metadata": {},
   "outputs": [
    {
     "name": "stderr",
     "output_type": "stream",
     "text": [
      "*c* argument looks like a single numeric RGB or RGBA sequence, which should be avoided as value-mapping will have precedence in case its length matches with *x* & *y*.  Please use the *color* keyword-argument or provide a 2-D array with a single row if you intend to specify the same RGB or RGBA value for all points.\n",
      "*c* argument looks like a single numeric RGB or RGBA sequence, which should be avoided as value-mapping will have precedence in case its length matches with *x* & *y*.  Please use the *color* keyword-argument or provide a 2-D array with a single row if you intend to specify the same RGB or RGBA value for all points.\n",
      "*c* argument looks like a single numeric RGB or RGBA sequence, which should be avoided as value-mapping will have precedence in case its length matches with *x* & *y*.  Please use the *color* keyword-argument or provide a 2-D array with a single row if you intend to specify the same RGB or RGBA value for all points.\n"
     ]
    },
    {
     "data": {
      "image/png": "[encoded data removed]",
      "text/plain": [
       "<Figure size 720x432 with 1 Axes>"
      ]
     },
     "metadata": {
      "needs_background": "light"
     },
     "output_type": "display_data"
    }
   ],
   "source": [
    "decision_plot(X_test_standard, y_test, SVM)\n"
   ]
  },
  {
   "cell_type": "code",
   "execution_count": null,
   "id": "5cae9694",
   "metadata": {},
   "outputs": [],
   "source": []
  },
  {
   "cell_type": "code",
   "execution_count": null,
   "id": "6fbd918a",
   "metadata": {},
   "outputs": [],
   "source": []
  }
 ],
 "metadata": {
  "kernelspec": {
   "display_name": "Python 3",
   "language": "python",
   "name": "python3"
  },
  "language_info": {
   "codemirror_mode": {
    "name": "ipython",
    "version": 3
   },
   "file_extension": ".py",
   "mimetype": "text/x-python",
   "name": "python",
   "nbconvert_exporter": "python",
   "pygments_lexer": "ipython3",
   "version": "3.8.8"
  }
 },
 "nbformat": 4,
 "nbformat_minor": 5
}
